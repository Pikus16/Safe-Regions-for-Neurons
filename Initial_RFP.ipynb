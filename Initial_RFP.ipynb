{
 "cells": [
  {
   "cell_type": "code",
   "execution_count": 14,
   "metadata": {},
   "outputs": [],
   "source": [
    "# imports\n",
    "import torch\n",
    "from torch import nn\n",
    "import torch.nn.functional as F\n",
    "from torch.utils.data import DataLoader\n",
    "\n",
    "from torchvision import transforms, models\n",
    "from torchvision.datasets import CIFAR10\n",
    "\n",
    "import numpy as np\n",
    "from abc import ABC, abstractmethod\n",
    "from collections import defaultdict\n",
    "import matplotlib.pyplot as plt\n",
    "import seaborn as sns\n",
    "import pandas as pd\n",
    "import tqdm"
   ]
  },
  {
   "cell_type": "code",
   "execution_count": 2,
   "metadata": {},
   "outputs": [
    {
     "name": "stdout",
     "output_type": "stream",
     "text": [
      "Files already downloaded and verified\n"
     ]
    }
   ],
   "source": [
    "cifar10 = CIFAR10('/data/benjamin.pikus', download=True,\n",
    "    transform=transforms.Compose([\n",
    "        transforms.Resize(224),\n",
    "        transforms.ToTensor(),\n",
    "        transforms.Normalize(mean=[0.485, 0.456, 0.406], std=[0.229, 0.224, 0.225])\n",
    "    ]))"
   ]
  },
  {
   "cell_type": "code",
   "execution_count": 5,
   "metadata": {},
   "outputs": [],
   "source": [
    "train_dataset, test_dataset = torch.utils.data.random_split(\n",
    "    cifar10, [int(len(cifar10)/2),int(len(cifar10)/2)], generator =torch.Generator().manual_seed(50))"
   ]
  },
  {
   "cell_type": "code",
   "execution_count": 6,
   "metadata": {},
   "outputs": [],
   "source": [
    "device = torch.device('cuda:0' if torch.cuda.is_available() else 'cpu')\n",
    "resnet18 = models.resnet18(pretrained=True).to(device)"
   ]
  },
  {
   "cell_type": "code",
   "execution_count": 17,
   "metadata": {},
   "outputs": [],
   "source": [
    "minmaxhandler.clear_handles()"
   ]
  },
  {
   "cell_type": "code",
   "execution_count": 7,
   "metadata": {},
   "outputs": [],
   "source": [
    "class SafeRegion(ABC):\n",
    "    def __init__(self):\n",
    "        self.hooks = {}\n",
    "        self.train = True\n",
    "        self.count_safe, self.count_notsafe = defaultdict(list), defaultdict(list)\n",
    "    \n",
    "    def clear_handles(self):\n",
    "        for h in self.hooks.values():\n",
    "            h.remove()\n",
    "        self.hooks = {}\n",
    "        self.count_safe, self.count_notsafe = defaultdict(list), defaultdict(list)\n",
    "        \n",
    "    @abstractmethod\n",
    "    def get_activation(self, name):\n",
    "        pass"
   ]
  },
  {
   "cell_type": "code",
   "execution_count": 8,
   "metadata": {},
   "outputs": [],
   "source": [
    "class SimpleMinMax(SafeRegion):\n",
    "    def __init__(self, generalize_ratio=0.0):\n",
    "        super().__init__()\n",
    "        self.min, self.max = float('inf'), float('-inf')\n",
    "        self.generalize_ratio = generalize_ratio\n",
    "        \n",
    "    def get_activation(self, name):\n",
    "        def count_safe(module, module_in):\n",
    "            assert isinstance(module_in,tuple) and len(module_in) == 1\n",
    "            module_in = module_in[0]\n",
    "            mi = torch.min(module_in).item()\n",
    "            ma = torch.max(module_in).item()\n",
    "            if self.train:\n",
    "                if mi < self.min:\n",
    "                    self.min = mi\n",
    "                if ma > self.max:\n",
    "                    self.max = ma\n",
    "            else:\n",
    "                lower_lim, upper_lim = self.get_bounds()\n",
    "                bounded_check = torch.logical_or(module_in < lower_lim, module_in > upper_lim)\n",
    "                num_not_safe = torch.sum(bounded_check).item()\n",
    "                num_all_samples =  torch.numel(bounded_check)\n",
    "                num_safe = num_all_samples - num_not_safe\n",
    "                self.count_safe[name].append(num_safe)#/num_all_samples)\n",
    "                self.count_notsafe[name].append(num_not_safe)#/num_all_samples)\n",
    "        return count_safe\n",
    "    \n",
    "    def get_bounds(self):\n",
    "        if self.min < 0:\n",
    "            lower_lim = self.min*(1+self.generalize_ratio)\n",
    "        else:\n",
    "            lower_lim = self.min*(1-self.generalize_ratio)\n",
    "            \n",
    "        if self.max < 0:\n",
    "            upper_lim = self.max*(1-self.generalize_ratio)\n",
    "        else:\n",
    "            upper_lim = self.max*(1+self.generalize_ratio)\n",
    "            \n",
    "        return lower_lim, upper_lim"
   ]
  },
  {
   "cell_type": "code",
   "execution_count": 9,
   "metadata": {},
   "outputs": [],
   "source": [
    "minmaxhandler_neg =\n",
    "minmaxhandler_zer = SimpleMinMax(0)\n",
    "minmaxhandler_pos = SimpleMinMax(0.9)\n",
    "all_handlers = {\n",
    "    \"SimpleMinMax:-0.9\" :  SimpleMinMax(-0.9),\n",
    "    \"SimpleMinMax:0\" : SimpleMinMax(0),\n",
    "    \"SimpleMinMax:0.9\" : SimpleMinMax(0.9)\n",
    "}"
   ]
  },
  {
   "cell_type": "code",
   "execution_count": 19,
   "metadata": {},
   "outputs": [],
   "source": [
    "all_handlers = {\n",
    "    \"Neg\" : minmaxhandler_neg,\n",
    "    \"Zero\" : minmaxhandler_zer,\n",
    "    \"Pos\" : minmaxhandler_pos\n",
    "}"
   ]
  },
  {
   "cell_type": "code",
   "execution_count": 10,
   "metadata": {},
   "outputs": [],
   "source": [
    "def add_hooks(model, safe_region_counter):\n",
    "    for layer_name,layer in model.named_modules():\n",
    "        if isinstance(layer, torch.nn.modules.activation.ReLU):\n",
    "            safe_region_counter.hooks[layer_name] = layer.register_forward_pre_hook(safe_region_counter.get_activation(layer_name))"
   ]
  },
  {
   "cell_type": "code",
   "execution_count": 15,
   "metadata": {},
   "outputs": [],
   "source": [
    "def run_counter(model, dataset, safe_region_counters,\n",
    "        train = True, batch_size=16, loader_workers=4):\n",
    "    for s in safe_region_counters:\n",
    "        s.train = train\n",
    "    \n",
    "    dataloader = DataLoader(\n",
    "                dataset,\n",
    "                batch_size=batch_size,\n",
    "                shuffle=False,\n",
    "                num_workers=loader_workers)\n",
    "    \n",
    "    for batch_samples, batch_labels in tqdm.tqdm(dataloader):\n",
    "        batch_samples = batch_samples.to(device)\n",
    "        with torch.no_grad():\n",
    "            # just need to do a forward pass\n",
    "            model(batch_samples)"
   ]
  },
  {
   "cell_type": "code",
   "execution_count": 12,
   "metadata": {},
   "outputs": [],
   "source": [
    "for h in all_handlers.values():\n",
    "    add_hooks(resnet18, h)"
   ]
  },
  {
   "cell_type": "code",
   "execution_count": 16,
   "metadata": {},
   "outputs": [
    {
     "name": "stderr",
     "output_type": "stream",
     "text": [
      "100%|██████████| 1563/1563 [01:41<00:00, 15.34it/s]\n"
     ]
    }
   ],
   "source": [
    "run_counter(resnet18, train_dataset, list(all_handlers.values()), train=True)"
   ]
  },
  {
   "cell_type": "code",
   "execution_count": 17,
   "metadata": {},
   "outputs": [
    {
     "name": "stderr",
     "output_type": "stream",
     "text": [
      "100%|██████████| 1563/1563 [03:55<00:00,  6.64it/s]\n"
     ]
    }
   ],
   "source": [
    "run_counter(resnet18, test_dataset, list(all_handlers.values()), train=False)"
   ]
  },
  {
   "cell_type": "code",
   "execution_count": 21,
   "metadata": {},
   "outputs": [],
   "source": [
    "with torch.no_grad():\n",
    "    model(dataset[0][0].unsqueeze(0).to(device))"
   ]
  },
  {
   "cell_type": "code",
   "execution_count": 22,
   "metadata": {},
   "outputs": [],
   "source": [
    "minmaxhandler.train = False"
   ]
  },
  {
   "cell_type": "code",
   "execution_count": 18,
   "metadata": {},
   "outputs": [
    {
     "name": "stdout",
     "output_type": "stream",
     "text": [
      "(-1.4921607017517087, 2.496827697753906)\n",
      "(-14.92160701751709, 24.968276977539062)\n",
      "(-28.35105333328247, 47.43972625732422)\n"
     ]
    }
   ],
   "source": [
    "for h in all_handlers:\n",
    "    print(h.get_bounds())"
   ]
  },
  {
   "cell_type": "code",
   "execution_count": 24,
   "metadata": {},
   "outputs": [
    {
     "data": {
      "text/plain": [
       "defaultdict(list, {})"
      ]
     },
     "execution_count": 24,
     "metadata": {},
     "output_type": "execute_result"
    }
   ],
   "source": [
    "minmaxhandler.count_safe"
   ]
  },
  {
   "cell_type": "code",
   "execution_count": 36,
   "metadata": {},
   "outputs": [
    {
     "data": {
      "text/plain": [
       "defaultdict(list,\n",
       "            {'relu': [740740, 1476691, 740740],\n",
       "             'layer1.0.relu': [182680, 175084, 362603, 279159, 182680, 175084],\n",
       "             'layer1.1.relu': [182718, 153355, 365530, 247712, 182718, 153355],\n",
       "             'layer2.0.relu': [94542, 87110, 188722, 175589, 94542, 87110],\n",
       "             'layer2.1.relu': [88592, 90184, 176606, 180983, 88592, 90184],\n",
       "             'layer3.0.relu': [46825, 45376, 93624, 91008, 46825, 45376],\n",
       "             'layer3.1.relu': [44493, 46419, 89229, 93106, 44493, 46419],\n",
       "             'layer4.0.relu': [22954, 16433, 45925, 33481, 22954, 16433],\n",
       "             'layer4.1.relu': [22011, 7364, 44120, 15483, 22011, 7364]})"
      ]
     },
     "execution_count": 36,
     "metadata": {},
     "output_type": "execute_result"
    }
   ],
   "source": [
    "with torch.no_grad():\n",
    "    model(dataset[0][0].unsqueeze(0).to(device))\n",
    "minmaxhandler.count_safe"
   ]
  },
  {
   "cell_type": "code",
   "execution_count": 48,
   "metadata": {},
   "outputs": [],
   "source": [
    "df = pd.DataFrame()"
   ]
  },
  {
   "cell_type": "code",
   "execution_count": 53,
   "metadata": {},
   "outputs": [
    {
     "data": {
      "text/plain": [
       "pandas.core.frame.DataFrame"
      ]
     },
     "execution_count": 53,
     "metadata": {},
     "output_type": "execute_result"
    }
   ],
   "source": [
    "df[0] = 3\n",
    "type(df)"
   ]
  },
  {
   "cell_type": "code",
   "execution_count": 20,
   "metadata": {},
   "outputs": [],
   "source": [
    "def add_safe_results(safe_region_counter):\n",
    "    prob_safe_layer = []\n",
    "    for layer_name, safe_counts in safe_region_counter.count_safe.items():\n",
    "        unsafe_counts = safe_region_counter.count_notsafe[layer_name]\n",
    "        if layer_name == 'relu':\n",
    "            prob_safe_layer.append(sum(safe_counts) / (sum(safe_counts) + sum(unsafe_counts)))\n",
    "        else:\n",
    "            # torchvision implementation of resnet calls each relu in the basicblock layer twice\n",
    "            num_safe1, num_safe2 = 0,0\n",
    "            num_notsafe1, num_notsafe2 = 0,0\n",
    "            assert len(safe_counts)%2 == 0\n",
    "            for i in range(0,len(safe_counts),2):\n",
    "                num_safe1 += safe_counts[i]\n",
    "                num_safe2 += safe_counts[i+1]\n",
    "                num_notsafe1 += unsafe_counts[i]\n",
    "                num_notsafe2 += unsafe_counts[i+1]\n",
    "            prob_safe_layer.append(num_safe1 / (num_safe1 + num_notsafe1))\n",
    "            prob_safe_layer.append(num_safe2 / (num_safe2 + num_notsafe2))\n",
    "    return prob_safe_layer"
   ]
  },
  {
   "cell_type": "code",
   "execution_count": 21,
   "metadata": {},
   "outputs": [
    {
     "data": {
      "text/plain": [
       "<seaborn.axisgrid.FacetGrid at 0x7fc8a28200d0>"
      ]
     },
     "execution_count": 21,
     "metadata": {},
     "output_type": "execute_result"
    },
    {
     "data": {
      "image/png": "[encoded data removed]",
      "text/plain": [
       "<Figure size 418.875x360 with 1 Axes>"
      ]
     },
     "metadata": {
      "needs_background": "light"
     },
     "output_type": "display_data"
    }
   ],
   "source": [
    "prob_safe_df =pd.DataFrame()\n",
    "for k,v in all_handlers.items():\n",
    "    prob_safe_df[k] = add_safe_results(v)\n",
    "prob_safe_df['layer'] = range(prob_safe_df.shape[0])\n",
    "prob_safe_df = pd.melt(prob_safe_df, id_vars=\"layer\", var_name=\"sampler\", value_name=\"prob_safe\")\n",
    "sns.catplot(data = prob_safe_df, x = 'layer', y = 'prob_safe', hue = 'sampler', kind = 'bar')"
   ]
  },
  {
   "cell_type": "code",
   "execution_count": 12,
   "metadata": {},
   "outputs": [
    {
     "data": {
      "text/plain": [
       "-2.1179039478302"
      ]
     },
     "execution_count": 12,
     "metadata": {},
     "output_type": "execute_result"
    }
   ],
   "source": [
    "a = dataset[0][0].unsqueeze(0).to(device)\n",
    "torch.min(a).item()"
   ]
  },
  {
   "cell_type": "code",
   "execution_count": 31,
   "metadata": {},
   "outputs": [
    {
     "name": "stdout",
     "output_type": "stream",
     "text": [
      "dict_keys(['fc1', 'fc2'])\n"
     ]
    }
   ],
   "source": [
    "class MyModel(nn.Module):\n",
    "    def __init__(self):\n",
    "        super(MyModel, self).__init__()\n",
    "        self.cl1 = nn.Linear(25, 60)\n",
    "        self.cl2 = nn.Linear(60, 16)\n",
    "        self.fc1 = nn.Linear(16, 120)\n",
    "        self.fc2 = nn.Linear(120, 84)\n",
    "        self.fc3 = nn.Linear(84, 10)\n",
    "        \n",
    "    def forward(self, x):\n",
    "        x = F.relu(self.cl1(x))\n",
    "        x = F.relu(self.cl2(x))\n",
    "        x = F.relu(self.fc1(x))\n",
    "        x = F.relu(self.fc2(x))\n",
    "        x = F.log_softmax(self.fc3(x), dim=1)\n",
    "        return x\n",
    "\n",
    "\n",
    "activation = {}\n",
    "def get_activation(name):\n",
    "    def hook(model, input, output):\n",
    "        activation[name] = output.detach()\n",
    "    return hook\n",
    "\n",
    "\n",
    "model = MyModel()\n",
    "model.fc2.register_forward_hook(get_activation('fc2'))\n",
    "model.fc1.register_forward_hook(get_activation('fc1'))\n",
    "x = torch.randn(1, 25)\n",
    "output = model(x)\n",
    "print(activation.keys())"
   ]
  },
  {
   "cell_type": "code",
   "execution_count": 33,
   "metadata": {},
   "outputs": [
    {
     "data": {
      "text/plain": [
       "torch.Size([1, 120])"
      ]
     },
     "execution_count": 33,
     "metadata": {},
     "output_type": "execute_result"
    }
   ],
   "source": [
    "activation['fc1'].shape"
   ]
  },
  {
   "cell_type": "code",
   "execution_count": 56,
   "metadata": {},
   "outputs": [
    {
     "data": {
      "text/html": [
       "<div>\n",
       "<style scoped>\n",
       "    .dataframe tbody tr th:only-of-type {\n",
       "        vertical-align: middle;\n",
       "    }\n",
       "\n",
       "    .dataframe tbody tr th {\n",
       "        vertical-align: top;\n",
       "    }\n",
       "\n",
       "    .dataframe thead th {\n",
       "        text-align: right;\n",
       "    }\n",
       "</style>\n",
       "<table border=\"1\" class=\"dataframe\">\n",
       "  <thead>\n",
       "    <tr style=\"text-align: right;\">\n",
       "      <th></th>\n",
       "      <th>name</th>\n",
       "    </tr>\n",
       "  </thead>\n",
       "  <tbody>\n",
       "    <tr>\n",
       "      <th>0</th>\n",
       "      <td>0.921186</td>\n",
       "    </tr>\n",
       "    <tr>\n",
       "      <th>1</th>\n",
       "      <td>0.906762</td>\n",
       "    </tr>\n",
       "    <tr>\n",
       "      <th>2</th>\n",
       "      <td>0.783899</td>\n",
       "    </tr>\n",
       "    <tr>\n",
       "      <th>3</th>\n",
       "      <td>0.910503</td>\n",
       "    </tr>\n",
       "    <tr>\n",
       "      <th>4</th>\n",
       "      <td>0.690597</td>\n",
       "    </tr>\n",
       "    <tr>\n",
       "      <th>5</th>\n",
       "      <td>0.941202</td>\n",
       "    </tr>\n",
       "    <tr>\n",
       "      <th>6</th>\n",
       "      <td>0.871455</td>\n",
       "    </tr>\n",
       "    <tr>\n",
       "      <th>7</th>\n",
       "      <td>0.881373</td>\n",
       "    </tr>\n",
       "    <tr>\n",
       "      <th>8</th>\n",
       "      <td>0.900209</td>\n",
       "    </tr>\n",
       "    <tr>\n",
       "      <th>9</th>\n",
       "      <td>0.933086</td>\n",
       "    </tr>\n",
       "    <tr>\n",
       "      <th>10</th>\n",
       "      <td>0.905612</td>\n",
       "    </tr>\n",
       "    <tr>\n",
       "      <th>11</th>\n",
       "      <td>0.887949</td>\n",
       "    </tr>\n",
       "    <tr>\n",
       "      <th>12</th>\n",
       "      <td>0.926459</td>\n",
       "    </tr>\n",
       "    <tr>\n",
       "      <th>13</th>\n",
       "      <td>0.915109</td>\n",
       "    </tr>\n",
       "    <tr>\n",
       "      <th>14</th>\n",
       "      <td>0.661143</td>\n",
       "    </tr>\n",
       "    <tr>\n",
       "      <th>15</th>\n",
       "      <td>0.878328</td>\n",
       "    </tr>\n",
       "    <tr>\n",
       "      <th>16</th>\n",
       "      <td>0.301050</td>\n",
       "    </tr>\n",
       "  </tbody>\n",
       "</table>\n",
       "</div>"
      ],
      "text/plain": [
       "        name\n",
       "0   0.921186\n",
       "1   0.906762\n",
       "2   0.783899\n",
       "3   0.910503\n",
       "4   0.690597\n",
       "5   0.941202\n",
       "6   0.871455\n",
       "7   0.881373\n",
       "8   0.900209\n",
       "9   0.933086\n",
       "10  0.905612\n",
       "11  0.887949\n",
       "12  0.926459\n",
       "13  0.915109\n",
       "14  0.661143\n",
       "15  0.878328\n",
       "16  0.301050"
      ]
     },
     "execution_count": 56,
     "metadata": {},
     "output_type": "execute_result"
    }
   ],
   "source": [
    "df = pd.DataFrame()\n",
    "df['name'] = prob_safe_layer\n",
    "df"
   ]
  },
  {
   "cell_type": "code",
   "execution_count": null,
   "metadata": {},
   "outputs": [],
   "source": []
  }
 ],
 "metadata": {
  "kernelspec": {
   "display_name": "Python 3",
   "language": "python",
   "name": "python3"
  },
  "language_info": {
   "codemirror_mode": {
    "name": "ipython",
    "version": 3
   },
   "file_extension": ".py",
   "mimetype": "text/x-python",
   "name": "python",
   "nbconvert_exporter": "python",
   "pygments_lexer": "ipython3",
   "version": "3.7.9"
  }
 },
 "nbformat": 4,
 "nbformat_minor": 4
}
